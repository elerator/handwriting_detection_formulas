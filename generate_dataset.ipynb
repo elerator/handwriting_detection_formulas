{
 "cells": [
  {
   "cell_type": "code",
   "execution_count": 10,
   "metadata": {},
   "outputs": [
    {
     "data": {
      "text/html": [
       "<style>div { touch-action: none;}</style>"
      ],
      "text/plain": [
       "<IPython.core.display.HTML object>"
      ]
     },
     "metadata": {},
     "output_type": "display_data"
    },
    {
     "data": {
      "text/html": [
       " <div hidden><canvas id=\"record_canvas\" width=\"800\" height=\"400\"></canvas></div>"
      ],
      "text/plain": [
       "<IPython.core.display.HTML object>"
      ]
     },
     "metadata": {},
     "output_type": "display_data"
    },
    {
     "data": {
      "text/html": [
       " <div><canvas id=\"interface_canvas\" width=\"800\" height=\"400\"></canvas></div>"
      ],
      "text/plain": [
       "<IPython.core.display.HTML object>"
      ]
     },
     "metadata": {},
     "output_type": "display_data"
    },
    {
     "data": {
      "text/html": [
       " <button id = \"clear_bu|tton\"> Clear input </button>"
      ],
      "text/plain": [
       "<IPython.core.display.HTML object>"
      ]
     },
     "metadata": {},
     "output_type": "display_data"
    }
   ],
   "source": [
    "from IPython.core.display import display, HTML\n",
    "display(HTML(\"<style>div { touch-action: none;}</style>\"))\n",
    "display(HTML(' <div hidden><canvas id=\"record_canvas\" width=\"800\" height=\"400\"></canvas></div>'))\n",
    "display(HTML(' <div><canvas id=\"interface_canvas\" width=\"800\" height=\"400\"></canvas></div>'))\n",
    "display(HTML(' <button id = \"clear_bu|tton\"> Clear input </button>'))"
   ]
  },
  {
   "cell_type": "code",
   "execution_count": 11,
   "metadata": {},
   "outputs": [
    {
     "data": {
      "application/javascript": [
       "\n",
       "require.config({paths: {numjs: \"https://cdn.jsdelivr.net/gh/nicolaspanel/numjs@0.15.1/dist/numjs.min\"}}); //omit .js at end\n",
       "require(['numjs'],main);\n",
       "\n",
       "var input_sequence = [];//sequence of input strokes\n",
       "var input_coordinates = [];\n",
       "\n",
       "function main(nj){\n",
       "    var canvas = document.getElementById(\"interface_canvas\");\n",
       "    var temp = document.getElementById(\"record_canvas\");\n",
       "    var ctx = temp.getContext(\"2d\");\n",
       "    ctx.lineWidth = 3;\n",
       "    \n",
       "    var clear_button = document.getElementById(\"clear_button\");\n",
       "\n",
       "\n",
       "    var draw = false;\n",
       "\n",
       "    var curr_x = 0\n",
       "    var curr_y = 0\n",
       "    \n",
       "    var pointer_down = false;\n",
       "    var min_x = Infinity;\n",
       "    var max_x = 0;\n",
       "    var min_y = Infinity;\n",
       "    var max_y = 0;\n",
       "\n",
       "    function draw_path(e){\n",
       "        if(e.pointerType == \"touch\"){\n",
       "            return    \n",
       "        }\n",
       "        \n",
       "        if (e.pressure > 0.0){//pointer down, started writing\n",
       "            if (curr_x != e.layerX | curr_y != e.layerY){//if moved since last check\n",
       "                if(!pointer_down) pointer_down = true;//remember pointer down\n",
       "                \n",
       "                if(e.layerX < min_x) min_x = e.layerX;\n",
       "                if(e.layerY < min_y) min_y = e.layerY;\n",
       "                \n",
       "                if(e.layerX > max_x) max_x = e.layerX;\n",
       "                if(e.layerY > max_y) max_y = e.layerY;\n",
       "                \n",
       "                ctx.beginPath();//draw to temporary record_canvas (hidden)\n",
       "                ctx.moveTo(curr_x, curr_y);\n",
       "                ctx.lineTo(e.layerX, e.layerY);\n",
       "                ctx.stroke(); \n",
       "            }\n",
       "        }\n",
       "        else{\n",
       "            if(pointer_down){//pointer relesed\n",
       "                // add stroke to array\n",
       "                input_sequence.push(ctx.getImageData(min_x,min_y, max_x-min_x,max_y-min_y));\n",
       "                input_coordinates.push([min_x,min_y,max_x,max_y]);\n",
       "                \n",
       "                console.log(input_sequence);\n",
       "                //reset all variables\n",
       "                ctx.clearRect(0, 0, canvas.width, canvas.height);//clear temporary canvas\n",
       "                pointer_down = false;\n",
       "                min_x = Infinity;\n",
       "                max_x = 0;\n",
       "                min_y = Infinity;\n",
       "                max_y = 0;\n",
       "                }\n",
       "            }\n",
       "\n",
       "        curr_x = e.layerX;\n",
       "        curr_y = e.layerY;\n",
       "\n",
       "    }\n",
       "    canvas.addEventListener(\"pointermove\",draw_path);\n",
       "    \n",
       "    function clear_canvas(e){\n",
       "        ctx.clearRect(0, 0, canvas.width, canvas.height);\n",
       "    }\n",
       "    clear_button.addEventListener(\"click\",clear_canvas);    \n",
       "    \n",
       "}\n"
      ],
      "text/plain": [
       "<IPython.core.display.Javascript object>"
      ]
     },
     "metadata": {},
     "output_type": "display_data"
    }
   ],
   "source": [
    "%%javascript\n",
    "\n",
    "require.config({paths: {numjs: \"https://cdn.jsdelivr.net/gh/nicolaspanel/numjs@0.15.1/dist/numjs.min\"}}); //omit .js at end\n",
    "require(['numjs'],main);\n",
    "\n",
    "var input_sequence = [];//sequence of input strokes\n",
    "var input_coordinates = [];\n",
    "\n",
    "function main(nj){\n",
    "    var canvas = document.getElementById(\"interface_canvas\");\n",
    "    var temp = document.getElementById(\"record_canvas\");\n",
    "    var ctx = temp.getContext(\"2d\");\n",
    "    ctx.lineWidth = 3;\n",
    "    \n",
    "    var clear_button = document.getElementById(\"clear_button\");\n",
    "\n",
    "\n",
    "    var draw = false;\n",
    "\n",
    "    var curr_x = 0\n",
    "    var curr_y = 0\n",
    "    \n",
    "    var pointer_down = false;\n",
    "    var min_x = Infinity;\n",
    "    var max_x = 0;\n",
    "    var min_y = Infinity;\n",
    "    var max_y = 0;\n",
    "\n",
    "    function draw_path(e){\n",
    "        if(e.pointerType == \"touch\"){\n",
    "            return    \n",
    "        }\n",
    "        \n",
    "        if (e.pressure > 0.0){//pointer down, started writing\n",
    "            if (curr_x != e.layerX | curr_y != e.layerY){//if moved since last check\n",
    "                if(!pointer_down) pointer_down = true;//remember pointer down\n",
    "                \n",
    "                if(e.layerX < min_x) min_x = e.layerX;\n",
    "                if(e.layerY < min_y) min_y = e.layerY;\n",
    "                \n",
    "                if(e.layerX > max_x) max_x = e.layerX;\n",
    "                if(e.layerY > max_y) max_y = e.layerY;\n",
    "                \n",
    "                ctx.beginPath();//draw to temporary record_canvas (hidden)\n",
    "                ctx.moveTo(curr_x, curr_y);\n",
    "                ctx.lineTo(e.layerX, e.layerY);\n",
    "                ctx.stroke(); \n",
    "            }\n",
    "        }\n",
    "        else{\n",
    "            if(pointer_down){//pointer relesed\n",
    "                // add stroke to array\n",
    "                input_sequence.push(ctx.getImageData(min_x,min_y, max_x-min_x,max_y-min_y));\n",
    "                input_coordinates.push([min_x,min_y,max_x,max_y]);\n",
    "                \n",
    "                console.log(input_sequence);\n",
    "                //reset all variables\n",
    "                ctx.clearRect(0, 0, canvas.width, canvas.height);//clear temporary canvas\n",
    "                pointer_down = false;\n",
    "                min_x = Infinity;\n",
    "                max_x = 0;\n",
    "                min_y = Infinity;\n",
    "                max_y = 0;\n",
    "                }\n",
    "            }\n",
    "\n",
    "        curr_x = e.layerX;\n",
    "        curr_y = e.layerY;\n",
    "\n",
    "    }\n",
    "    canvas.addEventListener(\"pointermove\",draw_path);\n",
    "    \n",
    "    function clear_canvas(e){\n",
    "        ctx.clearRect(0, 0, canvas.width, canvas.height);\n",
    "    }\n",
    "    clear_button.addEventListener(\"click\",clear_canvas);    \n",
    "    \n",
    "}"
   ]
  },
  {
   "cell_type": "code",
   "execution_count": 154,
   "metadata": {},
   "outputs": [
    {
     "data": {
      "application/javascript": [
       "require.config({paths: {tf: \"https://cdn.jsdelivr.net/npm/@tensorflow/tfjs/dist/tf.min\"}});\n",
       "require(['tf'],function(c){test_tensorflow_model(c)});\n",
       "\n",
       "function test_tensorflow_model(tf){\n",
       "    const input = tf.input({shape: [5]});\n",
       "    const denseLayer1 = tf.layers.dense({units: 10, activation: 'relu'});\n",
       "    const denseLayer2 = tf.layers.dense({units: 2, activation: 'softmax'});\n",
       "    const output = denseLayer2.apply(denseLayer1.apply(input));\n",
       "    const model = tf.model({inputs: input, outputs: output});\n",
       "    var res = model.predict(tf.ones([2, 5]));\n",
       "    console.log(res.dataSync());\n",
       "}\n"
      ],
      "text/plain": [
       "<IPython.core.display.Javascript object>"
      ]
     },
     "metadata": {},
     "output_type": "display_data"
    }
   ],
   "source": [
    "%%javascript\n",
    "require.config({paths: {tf: \"https://cdn.jsdelivr.net/npm/@tensorflow/tfjs/dist/tf.min\"}});\n",
    "require(['tf'],function(c){test_tensorflow_model(c)});\n",
    "\n",
    "function test_tensorflow_model(tf){\n",
    "    const input = tf.input({shape: [5]});\n",
    "    const denseLayer1 = tf.layers.dense({units: 10, activation: 'relu'});\n",
    "    const denseLayer2 = tf.layers.dense({units: 2, activation: 'softmax'});\n",
    "    const output = denseLayer2.apply(denseLayer1.apply(input));\n",
    "    const model = tf.model({inputs: input, outputs: output});\n",
    "    var res = model.predict(tf.ones([2, 5]));\n",
    "    console.log(res.dataSync());\n",
    "}"
   ]
  },
  {
   "cell_type": "code",
   "execution_count": 86,
   "metadata": {},
   "outputs": [
    {
     "name": "stdout",
     "output_type": "stream",
     "text": [
      "False\n"
     ]
    }
   ],
   "source": [
    "import numpy as np\n",
    "r1 = tf.convert_to_tensor(np.zeros((100,100)))\n",
    "r2 = tf.convert_to_tensor(np.zeros((100,100)))\n",
    "\n",
    "summed = tf.add(r1,r2)\n",
    "overlap = tf.reduce_any(tf.equal(r1,1))\n",
    "\n",
    "sess = tf.Session()\n",
    "overlap = sess.run(overlap)\n",
    "print(overlap)"
   ]
  },
  {
   "cell_type": "markdown",
   "metadata": {},
   "source": [
    "# Imports and intsalls for node.js"
   ]
  },
  {
   "cell_type": "code",
   "execution_count": 27,
   "metadata": {},
   "outputs": [
    {
     "name": "stdout",
     "output_type": "stream",
     "text": [
      "Pixiedust database opened successfully\n"
     ]
    },
    {
     "data": {
      "text/html": [
       "\n",
       "        <div style=\"margin:10px\">\n",
       "            <a href=\"https://github.com/ibm-watson-data-lab/pixiedust\" target=\"_new\">\n",
       "                <img src=\"https://github.com/ibm-watson-data-lab/pixiedust/raw/master/docs/_static/pd_icon32.png\" style=\"float:left;margin-right:10px\"/>\n",
       "            </a>\n",
       "            <span>Pixiedust version 1.1.15</span>\n",
       "        </div>\n",
       "        "
      ],
      "text/plain": [
       "<IPython.core.display.HTML object>"
      ]
     },
     "metadata": {},
     "output_type": "display_data"
    },
    {
     "data": {
      "text/html": [
       "\n",
       "            <div style=\"margin:10px\"> \n",
       "            <a href=\"https://github.com/ibm-cds-labs/pixiedust_node\" target=\"_new\"> \n",
       "            <img src=\"https://github.com/ibm-cds-labs/pixiedust_node/raw/master/docs/_images/pdn_icon32.png\" style=\"float:left;margin-right:10px\"/> \n",
       "            </a> \n",
       "            <span>Pixiedust Node.js</span> \n",
       "            </div> \n"
      ],
      "text/plain": [
       "<IPython.core.display.HTML object>"
      ]
     },
     "metadata": {},
     "output_type": "display_data"
    }
   ],
   "source": [
    "import pixiedust_node"
   ]
  },
  {
   "cell_type": "code",
   "execution_count": 28,
   "metadata": {},
   "outputs": [
    {
     "name": "stdout",
     "output_type": "stream",
     "text": [
      "/home/gerstenberger/miniconda3/bin/npm install -s @tensorflow/tfjs\n",
      "pixiedust_node 0.2.5 started. Cells starting '%%node' may contain Node.js code.\n",
      "+ @tensorflow/tfjs@1.0.1\n",
      "updated 1 package and audited 2248 packages in 8.586s\n",
      "found 12 moderate severity vulnerabilities\n",
      "run `npm audit fix` to fix them, or `npm audit` for details\n"
     ]
    }
   ],
   "source": [
    "#npm.install('numjs');\n",
    "#npm.install('canvas');\n",
    "#npm.uninstall('@tensorflow/tfjs-node');\n",
    "npm.install(\"@tensorflow/tfjs\");\n",
    "\n",
    "#npm.install('@tensorflow/tfjs-node')\n",
    "#npm.install(\"protocol-buffers\")"
   ]
  },
  {
   "cell_type": "code",
   "execution_count": 29,
   "metadata": {},
   "outputs": [],
   "source": [
    "%%node\n",
    "var nj = require(\"numjs\");"
   ]
  },
  {
   "cell_type": "code",
   "execution_count": 30,
   "metadata": {},
   "outputs": [],
   "source": [
    "%%node\n",
    "var canvas = require(\"canvas\");"
   ]
  },
  {
   "cell_type": "code",
   "execution_count": 31,
   "metadata": {},
   "outputs": [],
   "source": [
    "%%node\n",
    "var tf = require('@tensorflow/tfjs'); "
   ]
  },
  {
   "cell_type": "code",
   "execution_count": 32,
   "metadata": {},
   "outputs": [],
   "source": [
    "%%node\n",
    "print(nj.arange(10).reshape(2,5));"
   ]
  },
  {
   "cell_type": "markdown",
   "metadata": {},
   "source": [
    "# Definition and execution in node.js"
   ]
  },
  {
   "cell_type": "code",
   "execution_count": 33,
   "metadata": {},
   "outputs": [],
   "source": [
    "%%node\n",
    "/* Class for the administration of all letters, digits and mathematical symbols*/\n",
    "class InputSymbol { \n",
    "    constructor(stroke, coordinates) {\n",
    "        this.input_strokes = [];\n",
    "        this.coordinates = null;\n",
    "        this.merged = false;\n",
    "        this.is_alive = false;\n",
    "        this.symbol_name = \"\";\n",
    "        \n",
    "        this.input_strokes.push(stroke);\n",
    "        this.coordinates = coordinates; \n",
    "    }\n",
    "}"
   ]
  },
  {
   "cell_type": "code",
   "execution_count": 34,
   "metadata": {},
   "outputs": [],
   "source": [
    "%%node\n",
    "function overlap(symbol1,symbol2){\n",
    "    if(box_overlap(symbol_1,symbol_2)){//check pixeloverlap efficiently\n",
    "        //\n",
    "        box1_xmin = null;\n",
    "        box1_ymin = null;\n",
    "        box2_xmin = null;\n",
    "        box2_ymin = null;\n",
    "                                       \n",
    "        xmin = null;\n",
    "        ymin = null;\n",
    "        xmax = null;\n",
    "        ymax = null;\n",
    "    }\n",
    "}\n",
    "\n",
    "function box_overlap(symbol1,symbol2){\n",
    "    xmin1 = symbol1.coordinates[0];\n",
    "    ymin1 = symbol1.coordinates[1];\n",
    "    xmax1 = symbol1.coordinates[2];\n",
    "    ymax1 = symbol1.coordinates[3];\n",
    "\n",
    "    xmin2 = symbol2.coordinates[0];\n",
    "    ymin2 = symbol2.coordinates[1];\n",
    "    xmax2 = symbol2.coordinates[2];\n",
    "    ymax2 = symbol2.coordinates[3];\n",
    "    \n",
    "    return (xmax1 > xmin2) && (xmax2 > xmin1) && (ymax1 > ymin2) && (ymax2 > ymin1) \n",
    "        \n",
    "}"
   ]
  },
  {
   "cell_type": "markdown",
   "metadata": {},
   "source": [
    "## Unit tests using node.js"
   ]
  },
  {
   "cell_type": "code",
   "execution_count": 35,
   "metadata": {},
   "outputs": [],
   "source": [
    "%%node\n",
    "var stroke1 = canvas.createImageData(100,100);\n",
    "var stroke2 = canvas.createImageData(100,100);"
   ]
  },
  {
   "cell_type": "code",
   "execution_count": 36,
   "metadata": {},
   "outputs": [
    {
     "name": "stdout",
     "output_type": "stream",
     "text": [
      "\"[[0,1,2,3,4],[5,6,7,8,9]]\"\n",
      "... ..... ..... ..... ..... ..... ..... ..... ..... ..... ...\n",
      "... ..... ..... ..... ..... ..... ..... ..... ..... ..... ..... ..... ...\n",
      "... ... ... ... ... ... ... ... ... ... ... ... ...\n"
     ]
    }
   ],
   "source": [
    "%%node // Test of BoxOverlap\n",
    "var symbol1 = new InputSymbol(stroke1, [100,100,200,200]);//x,y,x,y\n",
    "var symbol2 = new InputSymbol(stroke1, [100,100,200,200]);//x,y,x,y identical to 1\n",
    "var symbol3 = new InputSymbol(stroke1, [300,300,350,350]);//x,y,x,y does not overlap with 1\n",
    "var symbol4 = new InputSymbol(stroke1, [110,110,150,150]);//x,y,x,y included in symbol1\n",
    "var symbol5 = new InputSymbol(stroke1, [100,100,150,300]);//x,y,x,y partial overlap\n",
    "var symbol6 = new InputSymbol(stroke1, [110,110,210,210]);//x,y,x,y patial overlap same size\n",
    "var symbol6 = new InputSymbol(stroke1, [100,200,200,300]);//x,y,x,y share one edge\n",
    "\n",
    "assert(box_overlap(symbol1,symbol2));//identical --> overlap\n",
    "assert(!box_overlap(symbol1,symbol3));//no overlap\n",
    "assert(box_overlap(symbol1,symbol4));\n",
    "assert(box_overlap(symbol1,symbol5));\n",
    "assert(!box_overlap(symbol1,symbol6));//sharing an edge --> no overlap"
   ]
  },
  {
   "cell_type": "markdown",
   "metadata": {},
   "source": [
    "# Check speed of converting to tensor"
   ]
  },
  {
   "cell_type": "code",
   "execution_count": 172,
   "metadata": {},
   "outputs": [
    {
     "name": "stdout",
     "output_type": "stream",
     "text": [
      "Time in milliseconds\n",
      "1427\n",
      "\n",
      "Browser javascript is a lot faster\n",
      "Tensor {\n",
      "isDisposedInternal: false,\n",
      "shape: [ 4, 100, 100 ],\n",
      "dtype: 'int32',\n",
      "size: 40000,\n",
      "strides: [ 10000, 100 ],\n",
      "dataId: {},\n",
      "id: 13,\n",
      "rankType: '3' }\n"
     ]
    }
   ],
   "source": [
    "%%node\n",
    "console.log(\"Time in milliseconds\");\n",
    "var time = new Date().getTime();\n",
    "\n",
    "var stroke = tf.tensor(Uint8Array.from(stroke1.data),[4,100,100]);\n",
    "var r,g,b,a;\n",
    "[r,g,b,a] = tf.split(stroke,[1,1,1,1],0);//Get all the colorchannels\n",
    "var r = tf.squeeze(r)//use only red channel\n",
    "\n",
    "console.log(new Date().getTime()-time);\n",
    "console.log(\"Browser javascript is a lot faster\");\n",
    "\n",
    "console.log(stroke);"
   ]
  },
  {
   "cell_type": "code",
   "execution_count": 56,
   "metadata": {},
   "outputs": [
    {
     "data": {
      "application/javascript": [
       "\n",
       "var tf = null;\n",
       "require.config({paths: {tensorflow: \"https://cdn.jsdelivr.net/npm/@tensorflow/tfjs/dist/tf.min\"}});\n",
       "require(['tf'],function(tensorflow){\n",
       "    tf = tensorflow;\n",
       "    test_overlap_detection()\n",
       "});\n",
       "\n",
       "function assert(condition, message) {\n",
       "    if (!condition) {\n",
       "        throw message || \"Assertion failed\";\n",
       "    }\n",
       "}\n",
       "\n",
       "function overlap(symbol1,symbol2){\n",
       "    if(box_overlap(symbol1,symbol2)){//check overlap efficiently by checking coordinates first\n",
       "        //then find intersection to avoid checking an unnecessarily large patch\n",
       "        var xmin1 = symbol1.coordinates[0];\n",
       "        var ymin1 = symbol1.coordinates[1];\n",
       "        var xmax1 = symbol1.coordinates[2];\n",
       "        var ymax1 = symbol1.coordinates[3];\n",
       "\n",
       "        var xmin2 = symbol2.coordinates[0];\n",
       "        var ymin2 = symbol2.coordinates[1];\n",
       "        var xmax2 = symbol2.coordinates[2];\n",
       "        var ymax2 = symbol2.coordinates[3];\n",
       "        \n",
       "        var xmin = Math.max(xmin1,xmin2);\n",
       "        var xmax = Math.min(xmin1,xmin2);\n",
       "        var ymin = Math.max(ymin1,ymin2);\n",
       "        var ymax = Math.min(ymin1,ymin2);\n",
       "        \n",
       "        var left1 = Math.abs(xmin1 - xmin);\n",
       "        var top1 = Math.abs(ymin1 - ymin);\n",
       "        \n",
       "        var left2 = Math.abs(xmin2 - xmin);\n",
       "        var top2 = Math.abs(ymin2 - ymin);\n",
       "        \n",
       "        var width = Math.min(xmax1,xmax2)-Math.max(xmin1,xmin2);\n",
       "        var height = Math.min(ymax1,ymax2)-Math.max(ymin1,ymin2);\n",
       "        \n",
       "        console.log(\"left1 up1\");\n",
       "        console.log(left1);\n",
       "        console.log(top1);\n",
       "        \n",
       "        console.log(\"left2 up2\");\n",
       "        console.log(left2);\n",
       "        console.log(top2);\n",
       "        \n",
       "        console.log(width);\n",
       "        console.log(height);\n",
       "        \n",
       "        var patch1 = symbol1.merged.slice([left1,top1],[height,width]);\n",
       "        var patch2 = symbol2.merged.slice([left2,top2],[height,width]);\n",
       "        \n",
       "        var overlap = tf.any(tf.equal(tf.add(patch1, patch2),510));\n",
       "        return Boolean(Array.from(overlap.dataSync())[0])\n",
       "        \n",
       "    }\n",
       "}\n",
       "\n",
       "class InputSymbol { \n",
       "    /* Sets stroke of type image_data and the respective coordinates. The red channel of the stroke is saved as a tensor*/\n",
       "    constructor(stroke, coordinates) {\n",
       "        this.input_strokes = [];\n",
       "        this.coords = [];\n",
       "        this.merged = null;\n",
       "        this.is_alive = true;\n",
       "        this.symbol_name = \"\";\n",
       "        this.combined_coords = null;\n",
       "        \n",
       "        //var stroke1 = tf.tensor(Uint8Array.from(stroke1.data),[4,stroke1.data.height,stroke1.data.width]);\n",
       "        this.add_stroke(stroke, coordinates);\n",
       "        this.merged = this.input_strokes[0];//does this have side effects???\n",
       "        //always the current coordinates; They may grow when another stroke is added \n",
       "    }\n",
       "    \n",
       "    /*Adds a stroke i.e. an image_data to this.input_stokes as well coordinates i.e. a list of coordinates.\n",
       "      Updates the combined coordinates\n",
       "    */\n",
       "    add_stroke(image_data, coordinates){\n",
       "        image_data = tf.tensor(Uint8Array.from(image_data.data),[4,image_data.height,image_data.width]);\n",
       "        var r,g,b,a;\n",
       "        [r,g,b,a] = tf.split(image_data,[1,1,1,1],0);//Get all the colorchannels\n",
       "        r = tf.squeeze(r);//use only red channel\n",
       "        this.input_strokes.push(r);//we only save the red channel\n",
       "        this.coords.push(coordinates);\n",
       "        \n",
       "        if(this.combined_coords){\n",
       "            this.combined_coords = [Math.min(this.combined_coords[0],coordinates[0]),\n",
       "                                    Math.min(this.combined_coords[1],coordinates[1]),\n",
       "                                    Math.max(this.combined_coords[2],coordinates[2]),\n",
       "                                    Math.max(this.combined_coords[3],coordinates[3])]\n",
       "        } else this.combined_coords = coordinates;\n",
       "        \n",
       "    }\n",
       "    \n",
       "    get coordinates(){\n",
       "        return this.combined_coords;\n",
       "    }\n",
       "}\n",
       "\n",
       "function box_overlap(symbol1,symbol2){\n",
       "    var xmin1 = symbol1.coordinates[0];\n",
       "    var ymin1 = symbol1.coordinates[1];\n",
       "    var xmax1 = symbol1.coordinates[2];\n",
       "    var ymax1 = symbol1.coordinates[3];\n",
       "\n",
       "    var xmin2 = symbol2.coordinates[0];\n",
       "    var ymin2 = symbol2.coordinates[1];\n",
       "    var xmax2 = symbol2.coordinates[2];\n",
       "    var ymax2 = symbol2.coordinates[3];\n",
       "    \n",
       "    return (xmax1 > xmin2) && (xmax2 > xmin1) && (ymax1 > ymin2) && (ymax2 > ymin1)    \n",
       "}\n",
       "\n",
       "function pixel_overlap(pic1,pic2){\n",
       "    var r1,r2,g,b,a;\n",
       "    [r1,g,b,a] = tf.split(pic1,[1,1,1,1],0);//Get all the colorchannels\n",
       "    var r1 = tf.squeeze(r1);//use only red channel\n",
       "    \n",
       "    [r2,g,b,a] = tf.split(pic2,[1,1,1,1],0);//Get all the colorchannels\n",
       "    var r2 = tf.squeeze(r2);//use only red channel\n",
       "      \n",
       "    var summed = tf.add(r1,r2);\n",
       "    var overlap = tf.any(tf.equal(r1,0));//change scalar!!!!\n",
       "    \n",
       "    return Boolean(Array.from(overlap.dataSync())[0])\n",
       "}\n",
       "\n",
       "function test_overlap_detection(){\n",
       "    var result = null;\n",
       "    \n",
       "    console.log(\"1. Testing pixel_overlap\");//////////////// TEST 1 ////////////////////\n",
       "    var stroke1 = new ImageData(100,100);\n",
       "    var stroke2 = new ImageData(100,100);\n",
       "    \n",
       "    console.log(\"Duration in milliseconds\");\n",
       "    var time = new Date().getTime();\n",
       "\n",
       "    stroke1 = tf.tensor(Uint8Array.from(stroke1.data),[4,100,100]);\n",
       "    stroke2 = tf.tensor(Uint8Array.from(stroke2.data),[4,100,100]);\n",
       "    \n",
       "    result = pixel_overlap(stroke1,stroke2);\n",
       "    console.log(new Date().getTime()-time);\n",
       "    console.log(result);\n",
       "\n",
       "    console.log(\"2. Testing box overlap\");////////////////// TEST 2 /////////////////////\n",
       "    var stroke1 = new ImageData(100,100);\n",
       "    var stroke2 = new ImageData(100,100);\n",
       "    \n",
       "    var symbol1 = new InputSymbol(stroke1, [100,100,200,200]);//x,y,x,y\n",
       "    var symbol2 = new InputSymbol(stroke1, [100,100,200,200]);//x,y,x,y identical to 1\n",
       "    var symbol3 = new InputSymbol(stroke1, [300,300,350,350]);//x,y,x,y does not overlap with 1\n",
       "    var symbol4 = new InputSymbol(stroke1, [110,110,150,150]);//x,y,x,y included in symbol1\n",
       "    var symbol5 = new InputSymbol(stroke1, [100,100,150,300]);//x,y,x,y partial overlap\n",
       "    var symbol6 = new InputSymbol(stroke1, [110,110,210,210]);//x,y,x,y patial overlap same size\n",
       "    var symbol6 = new InputSymbol(stroke1, [100,200,200,300]);//x,y,x,y share one edge\n",
       "\n",
       "    assert(box_overlap(symbol1,symbol2));//identical --> overlap\n",
       "    assert(!box_overlap(symbol1,symbol3));//no overlap\n",
       "    assert(box_overlap(symbol1,symbol4));\n",
       "    assert(box_overlap(symbol1,symbol5));\n",
       "    assert(!box_overlap(symbol1,symbol6));//sharing an edge --> no overlap\n",
       "    \n",
       "    console.log(\"Duration\");\n",
       "    time = new Date().getTime();\n",
       "    box_overlap(symbol1,symbol2);\n",
       "    console.log(new Date().getTime()-time); \n",
       "    \n",
       "    console.log(\"3. Testing overlap\");\n",
       "    console.log(\"Duration in milliseconds\");\n",
       "    time = new Date().getTime();    \n",
       "    assert(!console.log(overlap(symbol1,symbol2)));\n",
       "    console.log(new Date().getTime()-time);     \n",
       "}\n"
      ],
      "text/plain": [
       "<IPython.core.display.Javascript object>"
      ]
     },
     "metadata": {},
     "output_type": "display_data"
    }
   ],
   "source": [
    "%%javascript\n",
    "\n",
    "var tf = null;\n",
    "require.config({paths: {tensorflow: \"https://cdn.jsdelivr.net/npm/@tensorflow/tfjs/dist/tf.min\"}});\n",
    "require(['tf'],function(tensorflow){\n",
    "    tf = tensorflow;\n",
    "    test_overlap_detection()\n",
    "});\n",
    "\n",
    "function assert(condition, message) {\n",
    "    if (!condition) {\n",
    "        throw message || \"Assertion failed\";\n",
    "    }\n",
    "}\n",
    "\n",
    "function overlap(symbol1,symbol2){\n",
    "    if(box_overlap(symbol1,symbol2)){//check overlap efficiently by checking coordinates first\n",
    "        //then find intersection to avoid checking an unnecessarily large patch\n",
    "        var xmin1 = symbol1.coordinates[0];\n",
    "        var ymin1 = symbol1.coordinates[1];\n",
    "        var xmax1 = symbol1.coordinates[2];\n",
    "        var ymax1 = symbol1.coordinates[3];\n",
    "\n",
    "        var xmin2 = symbol2.coordinates[0];\n",
    "        var ymin2 = symbol2.coordinates[1];\n",
    "        var xmax2 = symbol2.coordinates[2];\n",
    "        var ymax2 = symbol2.coordinates[3];\n",
    "        \n",
    "        var xmin = Math.max(xmin1,xmin2);\n",
    "        var xmax = Math.min(xmin1,xmin2);\n",
    "        var ymin = Math.max(ymin1,ymin2);\n",
    "        var ymax = Math.min(ymin1,ymin2);\n",
    "        \n",
    "        var left1 = Math.abs(xmin1 - xmin);\n",
    "        var top1 = Math.abs(ymin1 - ymin);\n",
    "        \n",
    "        var left2 = Math.abs(xmin2 - xmin);\n",
    "        var top2 = Math.abs(ymin2 - ymin);\n",
    "        \n",
    "        var width = Math.min(xmax1,xmax2)-Math.max(xmin1,xmin2);\n",
    "        var height = Math.min(ymax1,ymax2)-Math.max(ymin1,ymin2);\n",
    "        \n",
    "        console.log(\"left1 up1\");\n",
    "        console.log(left1);\n",
    "        console.log(top1);\n",
    "        \n",
    "        console.log(\"left2 up2\");\n",
    "        console.log(left2);\n",
    "        console.log(top2);\n",
    "        \n",
    "        console.log(width);\n",
    "        console.log(height);\n",
    "        \n",
    "        var patch1 = symbol1.merged.slice([left1,top1],[height,width]);\n",
    "        var patch2 = symbol2.merged.slice([left2,top2],[height,width]);\n",
    "        \n",
    "        var overlap = tf.any(tf.equal(tf.add(patch1, patch2),510));\n",
    "        return Boolean(Array.from(overlap.dataSync())[0])\n",
    "        \n",
    "    }\n",
    "}\n",
    "\n",
    "class InputSymbol { \n",
    "    /* Sets stroke of type image_data and the respective coordinates. The red channel of the stroke is saved as a tensor*/\n",
    "    constructor(stroke, coordinates) {\n",
    "        this.input_strokes = [];\n",
    "        this.coords = [];\n",
    "        this.merged = null;\n",
    "        this.is_alive = true;\n",
    "        this.symbol_name = \"\";\n",
    "        this.combined_coords = null;\n",
    "        \n",
    "        //var stroke1 = tf.tensor(Uint8Array.from(stroke1.data),[4,stroke1.data.height,stroke1.data.width]);\n",
    "        this.add_stroke(stroke, coordinates);\n",
    "        this.merged = this.input_strokes[0];//does this have side effects???\n",
    "        //always the current coordinates; They may grow when another stroke is added \n",
    "    }\n",
    "    \n",
    "    /*Adds a stroke i.e. an image_data to this.input_stokes as well coordinates i.e. a list of coordinates.\n",
    "      Updates the combined coordinates\n",
    "    */\n",
    "    add_stroke(image_data, coordinates){\n",
    "        image_data = tf.tensor(Uint8Array.from(image_data.data),[4,image_data.height,image_data.width]);\n",
    "        var r,g,b,a;\n",
    "        [r,g,b,a] = tf.split(image_data,[1,1,1,1],0);//Get all the colorchannels\n",
    "        r = tf.squeeze(r);//use only red channel\n",
    "        this.input_strokes.push(r);//we only save the red channel\n",
    "        this.coords.push(coordinates);\n",
    "        \n",
    "        if(this.combined_coords){\n",
    "            this.combined_coords = [Math.min(this.combined_coords[0],coordinates[0]),\n",
    "                                    Math.min(this.combined_coords[1],coordinates[1]),\n",
    "                                    Math.max(this.combined_coords[2],coordinates[2]),\n",
    "                                    Math.max(this.combined_coords[3],coordinates[3])]\n",
    "        } else this.combined_coords = coordinates;\n",
    "        \n",
    "    }\n",
    "    \n",
    "    get coordinates(){\n",
    "        return this.combined_coords;\n",
    "    }\n",
    "}\n",
    "\n",
    "function box_overlap(symbol1,symbol2){\n",
    "    var xmin1 = symbol1.coordinates[0];\n",
    "    var ymin1 = symbol1.coordinates[1];\n",
    "    var xmax1 = symbol1.coordinates[2];\n",
    "    var ymax1 = symbol1.coordinates[3];\n",
    "\n",
    "    var xmin2 = symbol2.coordinates[0];\n",
    "    var ymin2 = symbol2.coordinates[1];\n",
    "    var xmax2 = symbol2.coordinates[2];\n",
    "    var ymax2 = symbol2.coordinates[3];\n",
    "    \n",
    "    return (xmax1 > xmin2) && (xmax2 > xmin1) && (ymax1 > ymin2) && (ymax2 > ymin1)    \n",
    "}\n",
    "\n",
    "function pixel_overlap(pic1,pic2){\n",
    "    var r1,r2,g,b,a;\n",
    "    [r1,g,b,a] = tf.split(pic1,[1,1,1,1],0);//Get all the colorchannels\n",
    "    var r1 = tf.squeeze(r1);//use only red channel\n",
    "    \n",
    "    [r2,g,b,a] = tf.split(pic2,[1,1,1,1],0);//Get all the colorchannels\n",
    "    var r2 = tf.squeeze(r2);//use only red channel\n",
    "      \n",
    "    var summed = tf.add(r1,r2);\n",
    "    var overlap = tf.any(tf.equal(r1,0));//change scalar!!!!\n",
    "    \n",
    "    return Boolean(Array.from(overlap.dataSync())[0])\n",
    "}\n",
    "\n",
    "function test_overlap_detection(){\n",
    "    var result = null;\n",
    "    \n",
    "    console.log(\"1. Testing pixel_overlap\");//////////////// TEST 1 ////////////////////\n",
    "    var stroke1 = new ImageData(100,100);\n",
    "    var stroke2 = new ImageData(100,100);\n",
    "    \n",
    "    console.log(\"Duration in milliseconds\");\n",
    "    var time = new Date().getTime();\n",
    "\n",
    "    stroke1 = tf.tensor(Uint8Array.from(stroke1.data),[4,100,100]);\n",
    "    stroke2 = tf.tensor(Uint8Array.from(stroke2.data),[4,100,100]);\n",
    "    \n",
    "    result = pixel_overlap(stroke1,stroke2);\n",
    "    console.log(new Date().getTime()-time);\n",
    "    console.log(result);\n",
    "\n",
    "    console.log(\"2. Testing box overlap\");////////////////// TEST 2 /////////////////////\n",
    "    var stroke1 = new ImageData(100,100);\n",
    "    var stroke2 = new ImageData(100,100);\n",
    "    \n",
    "    var symbol1 = new InputSymbol(stroke1, [100,100,200,200]);//x,y,x,y\n",
    "    var symbol2 = new InputSymbol(stroke1, [100,100,200,200]);//x,y,x,y identical to 1\n",
    "    var symbol3 = new InputSymbol(stroke1, [300,300,350,350]);//x,y,x,y does not overlap with 1\n",
    "    var symbol4 = new InputSymbol(stroke1, [110,110,150,150]);//x,y,x,y included in symbol1\n",
    "    var symbol5 = new InputSymbol(stroke1, [100,100,150,300]);//x,y,x,y partial overlap\n",
    "    var symbol6 = new InputSymbol(stroke1, [110,110,210,210]);//x,y,x,y patial overlap same size\n",
    "    var symbol6 = new InputSymbol(stroke1, [100,200,200,300]);//x,y,x,y share one edge\n",
    "\n",
    "    assert(box_overlap(symbol1,symbol2));//identical --> overlap\n",
    "    assert(!box_overlap(symbol1,symbol3));//no overlap\n",
    "    assert(box_overlap(symbol1,symbol4));\n",
    "    assert(box_overlap(symbol1,symbol5));\n",
    "    assert(!box_overlap(symbol1,symbol6));//sharing an edge --> no overlap\n",
    "    \n",
    "    console.log(\"Duration\");\n",
    "    time = new Date().getTime();\n",
    "    box_overlap(symbol1,symbol2);\n",
    "    console.log(new Date().getTime()-time); \n",
    "    \n",
    "    console.log(\"3. Testing overlap\");\n",
    "    console.log(\"Duration in milliseconds\");\n",
    "    time = new Date().getTime();    \n",
    "    assert(!console.log(overlap(symbol1,symbol2)));\n",
    "    console.log(new Date().getTime()-time); \n",
    "    \n",
    "    \n",
    "    assert(o)\n",
    "}"
   ]
  },
  {
   "cell_type": "code",
   "execution_count": 14,
   "metadata": {},
   "outputs": [
    {
     "name": "stderr",
     "output_type": "stream",
     "text": [
      "UsageError: Cell magic `%%node` not found.\n"
     ]
    }
   ],
   "source": [
    "%%node\n",
    "console.log(r);"
   ]
  },
  {
   "cell_type": "code",
   "execution_count": 39,
   "metadata": {},
   "outputs": [
    {
     "name": "stdout",
     "output_type": "stream",
     "text": [
      "1604\n",
      "\n",
      "Tensor {\n",
      "isDisposedInternal: false,\n",
      "shape: [ 4, 100, 100 ],\n",
      "dtype: 'int32',\n",
      "size: 40000,\n",
      "strides: [ 10000, 100 ],\n",
      "dataId: {},\n",
      "id: 0,\n",
      "rankType: '3' }\n",
      "Tensor {\n",
      "isDisposedInternal: false,\n",
      "shape: [ 100, 100 ],\n",
      "dtype: 'int32',\n",
      "size: 10000,\n",
      "strides: [ 100 ],\n",
      "dataId: {},\n",
      "id: 5,\n",
      "rankType: '2' }\n",
      "Tensor {\n",
      "isDisposedInternal: false,\n",
      "shape: [ 100, 100 ],\n",
      "dtype: 'int32',\n",
      "size: 10000,\n",
      "strides: [ 100 ],\n",
      "dataId: {},\n",
      "id: 6,\n",
      "rankType: '2' }\n"
     ]
    }
   ],
   "source": [
    "%%node\n",
    "console.log(tf.squeeze(r));"
   ]
  },
  {
   "cell_type": "code",
   "execution_count": null,
   "metadata": {},
   "outputs": [],
   "source": []
  }
 ],
 "metadata": {
  "kernelspec": {
   "display_name": "Python 3",
   "language": "python",
   "name": "python3"
  },
  "language_info": {
   "codemirror_mode": {
    "name": "ipython",
    "version": 3
   },
   "file_extension": ".py",
   "mimetype": "text/x-python",
   "name": "python",
   "nbconvert_exporter": "python",
   "pygments_lexer": "ipython3",
   "version": "3.6.7"
  }
 },
 "nbformat": 4,
 "nbformat_minor": 2
}
