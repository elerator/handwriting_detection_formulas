{
 "cells": [
  {
   "cell_type": "markdown",
   "metadata": {},
   "source": [
    "# Use require to load module from content delivery network\n",
    "## Execute code in callback function"
   ]
  },
  {
   "cell_type": "markdown",
   "metadata": {},
   "source": [
    "### Load numjs"
   ]
  },
  {
   "cell_type": "code",
   "execution_count": 2,
   "metadata": {},
   "outputs": [
    {
     "data": {
      "application/javascript": [
       "\n",
       "require.config({paths: {numjs: \"https://cdn.jsdelivr.net/gh/nicolaspanel/numjs@0.15.1/dist/numjs.min\"}}); //omit .js at end\n",
       "require(['numjs'],add_graph_to_notebook);\n",
       "\n",
       "function add_graph_to_notebook(nj){\n",
       "    console.log(nj.arange(10).tolist());\n",
       "    console.log(\"Loaded numjs\");\n",
       "}\n"
      ],
      "text/plain": [
       "<IPython.core.display.Javascript object>"
      ]
     },
     "metadata": {},
     "output_type": "display_data"
    }
   ],
   "source": [
    "%%javascript\n",
    "\n",
    "require.config({paths: {numjs: \"https://cdn.jsdelivr.net/gh/nicolaspanel/numjs@0.15.1/dist/numjs.min\"}}); //omit .js at end\n",
    "require(['numjs'],add_graph_to_notebook);\n",
    "\n",
    "function add_graph_to_notebook(nj){\n",
    "    console.log(nj.arange(10).tolist());\n",
    "    console.log(\"Loaded numjs\");\n",
    "}"
   ]
  },
  {
   "cell_type": "markdown",
   "metadata": {},
   "source": [
    "### Load tensorflow"
   ]
  },
  {
   "cell_type": "code",
   "execution_count": 3,
   "metadata": {},
   "outputs": [
    {
     "data": {
      "application/javascript": [
       "\n",
       "require.config({paths: {tf: \"https://cdn.jsdelivr.net/npm/@tensorflow/tfjs/dist/tf.min\"}});\n",
       "require(['tf'],function(c){add_graph_to_notebook(c)});\n",
       "\n",
       "function add_graph_to_notebook(tf){\n",
       "    console.log(tf.range(10));\n",
       "    console.log(\"Loaded tensorflow\");\n",
       "}\n"
      ],
      "text/plain": [
       "<IPython.core.display.Javascript object>"
      ]
     },
     "metadata": {},
     "output_type": "display_data"
    }
   ],
   "source": [
    "%%javascript\n",
    "\n",
    "require.config({paths: {tf: \"https://cdn.jsdelivr.net/npm/@tensorflow/tfjs/dist/tf.min\"}});\n",
    "require(['tf'],function(c){add_graph_to_notebook(c)});\n",
    "\n",
    "function add_graph_to_notebook(tf){\n",
    "    console.log(tf.range(10));\n",
    "    console.log(\"Loaded tensorflow\");\n",
    "}"
   ]
  },
  {
   "cell_type": "markdown",
   "metadata": {},
   "source": [
    "### Load both"
   ]
  },
  {
   "cell_type": "code",
   "execution_count": 9,
   "metadata": {},
   "outputs": [
    {
     "data": {
      "application/javascript": [
       "\n",
       "require.config({paths: {numjs1: \"https://cdn.jsdelivr.net/gh/nicolaspanel/numjs@0.15.1/dist/numjs.min\",\n",
       "                       tf1: \"https://cdn.jsdelivr.net/npm/@tensorflow/tfjs/dist/tf.min\"}\n",
       "               }); //omit .js at end\n",
       "require(['numjs1', 'tf1'],use_both);//or requirejs\n",
       "\n",
       "function use_both(nj, tf){\n",
       "    console.log(nj.arange(10).tolist());\n",
       "    console.log(tf.range(10))\n",
       "    console.log(\"Loaded both\");\n",
       "}\n"
      ],
      "text/plain": [
       "<IPython.core.display.Javascript object>"
      ]
     },
     "metadata": {},
     "output_type": "display_data"
    }
   ],
   "source": [
    "%%javascript\n",
    "\n",
    "require.config({paths: {numjs1: \"https://cdn.jsdelivr.net/gh/nicolaspanel/numjs@0.15.1/dist/numjs.min\",\n",
    "                       tf1: \"https://cdn.jsdelivr.net/npm/@tensorflow/tfjs/dist/tf.min\"}//names are to be freely chosen\n",
    "               }); //omit .js at end\n",
    "require(['numjs1', 'tf1'],use_both);//or requirejs\n",
    "\n",
    "function use_both(nj, tf){\n",
    "    console.log(nj.arange(10).tolist());\n",
    "    console.log(tf.range(10))\n",
    "    console.log(\"Loaded both\");\n",
    "}"
   ]
  }
 ],
 "metadata": {
  "kernelspec": {
   "display_name": "Python 3",
   "language": "python",
   "name": "python3"
  },
  "language_info": {
   "codemirror_mode": {
    "name": "ipython",
    "version": 3
   },
   "file_extension": ".py",
   "mimetype": "text/x-python",
   "name": "python",
   "nbconvert_exporter": "python",
   "pygments_lexer": "ipython3",
   "version": "3.6.7"
  }
 },
 "nbformat": 4,
 "nbformat_minor": 2
}
