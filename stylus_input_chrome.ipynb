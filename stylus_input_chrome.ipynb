{
 "cells": [
  {
   "cell_type": "code",
   "execution_count": 6,
   "metadata": {},
   "outputs": [
    {
     "data": {
      "text/html": [
       "<style>div { touch-action: none;}</style>"
      ],
      "text/plain": [
       "<IPython.core.display.HTML object>"
      ]
     },
     "metadata": {},
     "output_type": "display_data"
    }
   ],
   "source": [
    "from IPython.core.display import display, HTML\n",
    "display(HTML(\"<style>div { touch-action: none;}</style>\"))"
   ]
  },
  {
   "cell_type": "code",
   "execution_count": 7,
   "metadata": {},
   "outputs": [
    {
     "data": {
      "text/html": [
       " <div><canvas id=\"myCanvas\" width=\"800\" height=\"400\"></canvas></div>"
      ],
      "text/plain": [
       "<IPython.core.display.HTML object>"
      ]
     },
     "metadata": {},
     "output_type": "display_data"
    }
   ],
   "source": [
    "display(HTML(' <div><canvas id=\"myCanvas\" width=\"800\" height=\"400\"></canvas></div>'))"
   ]
  },
  {
   "cell_type": "code",
   "execution_count": 8,
   "metadata": {},
   "outputs": [
    {
     "data": {
      "application/javascript": [
       "var canvas = document.getElementById(\"myCanvas\");\n",
       "var ctx = canvas.getContext(\"2d\");\n",
       "ctx.lineWidth = 3;\n",
       "\n",
       "\n",
       "var draw = false;\n",
       "\n",
       "var curr_x = 0\n",
       "var curr_y = 0\n",
       "\n",
       "function draw_path(e){\n",
       "    if(e.pointerType == \"touch\"){\n",
       "        return\n",
       "    }\n",
       "    if (e.pressure > 0.0){\n",
       "        if (curr_x != e.layerX | curr_y != e.layerY){\n",
       "            ctx.beginPath();\n",
       "            ctx.moveTo(curr_x, curr_y);\n",
       "            ctx.lineTo(e.layerX, e.layerY);\n",
       "            ctx.stroke(); \n",
       "        }\n",
       "    }\n",
       "    \n",
       "    curr_x = e.layerX;\n",
       "    curr_y = e.layerY;\n",
       "\n",
       "}\n",
       "canvas.addEventListener(\"pointermove\",draw_path);\n"
      ],
      "text/plain": [
       "<IPython.core.display.Javascript object>"
      ]
     },
     "metadata": {},
     "output_type": "display_data"
    }
   ],
   "source": [
    "%%javascript\n",
    "var canvas = document.getElementById(\"myCanvas\");\n",
    "var ctx = canvas.getContext(\"2d\");\n",
    "ctx.lineWidth = 3;\n",
    "\n",
    "\n",
    "var draw = false;\n",
    "\n",
    "var curr_x = 0\n",
    "var curr_y = 0\n",
    "\n",
    "function draw_path(e){\n",
    "    if(e.pointerType == \"touch\"){\n",
    "        return\n",
    "    }\n",
    "    if (e.pressure > 0.0){\n",
    "        if (curr_x != e.layerX | curr_y != e.layerY){\n",
    "            ctx.beginPath();\n",
    "            ctx.moveTo(curr_x, curr_y);\n",
    "            ctx.lineTo(e.layerX, e.layerY);\n",
    "            ctx.stroke(); \n",
    "        }\n",
    "    }\n",
    "    \n",
    "    curr_x = e.layerX;\n",
    "    curr_y = e.layerY;\n",
    "\n",
    "}\n",
    "canvas.addEventListener(\"pointermove\",draw_path);\n"
   ]
  }
 ],
 "metadata": {
  "kernelspec": {
   "display_name": "Python 3",
   "language": "python",
   "name": "python3"
  },
  "language_info": {
   "codemirror_mode": {
    "name": "ipython",
    "version": 3
   },
   "file_extension": ".py",
   "mimetype": "text/x-python",
   "name": "python",
   "nbconvert_exporter": "python",
   "pygments_lexer": "ipython3",
   "version": "3.6.7"
  }
 },
 "nbformat": 4,
 "nbformat_minor": 2
}
