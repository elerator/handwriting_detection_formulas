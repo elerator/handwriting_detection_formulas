{
 "cells": [
  {
   "cell_type": "code",
   "execution_count": 7,
   "metadata": {},
   "outputs": [
    {
     "data": {
      "text/html": [
       "<style>div { touch-action: none; }</style>"
      ],
      "text/plain": [
       "<IPython.core.display.HTML object>"
      ]
     },
     "metadata": {},
     "output_type": "display_data"
    }
   ],
   "source": [
    "from IPython.core.display import display, HTML\n",
    "display(HTML(\"<style>div { touch-action: none; }</style>\"))"
   ]
  },
  {
   "cell_type": "code",
   "execution_count": 8,
   "metadata": {},
   "outputs": [
    {
     "data": {
      "text/html": [
       "<canvas id=\"myCanvas\" width=\"800\" height=\"400\"></canvas>"
      ],
      "text/plain": [
       "<IPython.core.display.HTML object>"
      ]
     },
     "metadata": {},
     "output_type": "display_data"
    }
   ],
   "source": [
    "display(HTML('<canvas id=\"myCanvas\" width=\"800\" height=\"400\"></canvas>'))"
   ]
  },
  {
   "cell_type": "code",
   "execution_count": 9,
   "metadata": {},
   "outputs": [
    {
     "data": {
      "application/javascript": [
       "\n",
       "var canvas = document.getElementById(\"myCanvas\");\n",
       "var ctx = canvas.getContext(\"2d\");\n",
       "ctx.lineWidth = 4;\n",
       "\n",
       "\n",
       "var draw = false;\n",
       "\n",
       "var curr_x = 0\n",
       "var curr_y = 0\n",
       "\n",
       "function preventDefault(e) {\n",
       "  e = e || window.event;\n",
       "  if (e.preventDefault)\n",
       "      e.preventDefault();\n",
       "  e.returnValue = false;  \n",
       "}\n",
       "\n",
       "function start_drawing(e){\n",
       "    curr_x = e.layerX;\n",
       "    curr_y = e.layerY;\n",
       "    draw = true;\n",
       "};\n",
       "\n",
       "function end_drawing(){\n",
       "    draw = false;\n",
       "}\n",
       "\n",
       "function draw_path(e){\n",
       "    if (draw){\n",
       "        if (curr_x != e.layerX | curr_y != e.layerY){\n",
       "            ctx.beginPath();\n",
       "            ctx.moveTo(curr_x, curr_y);\n",
       "            ctx.lineTo(e.layerX, e.layerY);\n",
       "            ctx.stroke(); \n",
       "        }\n",
       "    };\n",
       "    \n",
       "    curr_x = e.layerX;\n",
       "    curr_y = e.layerY;\n",
       "\n",
       "}\n",
       "\n",
       "canvas.addEventListener(\"pointerdown\",start_drawing);\n",
       "canvas.addEventListener(\"pointerup\",end_drawing);\n",
       "canvas.addEventListener(\"pointermove\",draw_path);\n",
       "\n",
       "\n",
       "window.onwheel = preventDefault; // modern standard\n",
       "window.ontouchmove  = preventDefault; // mobile\n"
      ],
      "text/plain": [
       "<IPython.core.display.Javascript object>"
      ]
     },
     "metadata": {},
     "output_type": "display_data"
    }
   ],
   "source": [
    "%%javascript\n",
    "\n",
    "var canvas = document.getElementById(\"myCanvas\");\n",
    "var ctx = canvas.getContext(\"2d\");\n",
    "ctx.lineWidth = 4;\n",
    "\n",
    "\n",
    "var draw = false;\n",
    "\n",
    "var curr_x = 0\n",
    "var curr_y = 0\n",
    "\n",
    "function preventDefault(e) {\n",
    "  e = e || window.event;\n",
    "  if (e.preventDefault)\n",
    "      e.preventDefault();\n",
    "  e.returnValue = false;  \n",
    "}\n",
    "\n",
    "function start_drawing(e){\n",
    "    curr_x = e.layerX;\n",
    "    curr_y = e.layerY;\n",
    "    draw = true;\n",
    "};\n",
    "\n",
    "function end_drawing(){\n",
    "    draw = false;\n",
    "}\n",
    "\n",
    "function draw_path(e){\n",
    "    if (draw){\n",
    "        if (curr_x != e.layerX | curr_y != e.layerY){\n",
    "            ctx.beginPath();\n",
    "            ctx.moveTo(curr_x, curr_y);\n",
    "            ctx.lineTo(e.layerX, e.layerY);\n",
    "            ctx.stroke(); \n",
    "        }\n",
    "    };\n",
    "    \n",
    "    curr_x = e.layerX;\n",
    "    curr_y = e.layerY;\n",
    "\n",
    "}\n",
    "\n",
    "canvas.addEventListener(\"pointerdown\",start_drawing);\n",
    "canvas.addEventListener(\"pointerup\",end_drawing);\n",
    "canvas.addEventListener(\"pointermove\",draw_path);\n",
    "\n",
    "\n",
    "window.onwheel = preventDefault; // modern standard\n",
    "window.ontouchmove  = preventDefault; // mobile\n"
   ]
  },
  {
   "cell_type": "code",
   "execution_count": 13,
   "metadata": {},
   "outputs": [
    {
     "data": {
      "application/javascript": [
       "window.onmousewheel = document.onmousewheel = null; \n",
       "window.onwheel = null; \n",
       "window.ontouchmove = null;  \n"
      ],
      "text/plain": [
       "<IPython.core.display.Javascript object>"
      ]
     },
     "metadata": {},
     "output_type": "display_data"
    }
   ],
   "source": [
    "%%javascript\n",
    "window.onmousewheel = document.onmousewheel = null; \n",
    "window.onwheel = null; \n",
    "window.ontouchmove = null;  "
   ]
  },
  {
   "cell_type": "code",
   "execution_count": null,
   "metadata": {},
   "outputs": [],
   "source": []
  }
 ],
 "metadata": {
  "kernelspec": {
   "display_name": "Python 3",
   "language": "python",
   "name": "python3"
  },
  "language_info": {
   "codemirror_mode": {
    "name": "ipython",
    "version": 3
   },
   "file_extension": ".py",
   "mimetype": "text/x-python",
   "name": "python",
   "nbconvert_exporter": "python",
   "pygments_lexer": "ipython3",
   "version": "3.6.7"
  }
 },
 "nbformat": 4,
 "nbformat_minor": 2
}
