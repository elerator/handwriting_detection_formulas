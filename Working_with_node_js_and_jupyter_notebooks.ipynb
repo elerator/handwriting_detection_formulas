{
 "cells": [
  {
   "cell_type": "code",
   "execution_count": 39,
   "metadata": {},
   "outputs": [
    {
     "data": {
      "text/html": [
       "<style>div { touch-action: none;}</style>"
      ],
      "text/plain": [
       "<IPython.core.display.HTML object>"
      ]
     },
     "metadata": {},
     "output_type": "display_data"
    },
    {
     "data": {
      "text/html": [
       " <div><canvas id=\"myCanvas\" width=\"800\" height=\"400\"></canvas></div>"
      ],
      "text/plain": [
       "<IPython.core.display.HTML object>"
      ]
     },
     "metadata": {},
     "output_type": "display_data"
    }
   ],
   "source": [
    "from IPython.core.display import display, HTML\n",
    "display(HTML(\"<style>div { touch-action: none;}</style>\"))\n",
    "display(HTML(' <div><canvas id=\"myCanvas\" width=\"800\" height=\"400\"></canvas></div>'))"
   ]
  },
  {
   "cell_type": "code",
   "execution_count": 40,
   "metadata": {},
   "outputs": [
    {
     "data": {
      "application/javascript": [
       "\n",
       "require.config({paths: {numjs: \"https://cdn.jsdelivr.net/gh/nicolaspanel/numjs@0.15.1/dist/numjs.min\"}}); //omit .js at end\n",
       "require(['numjs'],add_graph_to_notebook);\n",
       "\n",
       "function add_graph_to_notebook(nj){\n",
       "    var canvas = document.getElementById(\"myCanvas\");\n",
       "    var ctx = canvas.getContext(\"2d\");\n",
       "    ctx.lineWidth = 3;\n",
       "\n",
       "\n",
       "    var draw = false;\n",
       "\n",
       "    var curr_x = 0\n",
       "    var curr_y = 0\n",
       "\n",
       "    function draw_path(e){\n",
       "        if(e.pointerType == \"touch\"){\n",
       "            return\n",
       "        }\n",
       "        if (e.pressure > 0.0){\n",
       "            if (curr_x != e.layerX | curr_y != e.layerY){\n",
       "                ctx.beginPath();\n",
       "                ctx.moveTo(curr_x, curr_y);\n",
       "                ctx.lineTo(e.layerX, e.layerY);\n",
       "                ctx.stroke(); \n",
       "            }\n",
       "        }\n",
       "\n",
       "        curr_x = e.layerX;\n",
       "        curr_y = e.layerY;\n",
       "\n",
       "    }\n",
       "    canvas.addEventListener(\"pointermove\",draw_path);\n",
       "}\n"
      ],
      "text/plain": [
       "<IPython.core.display.Javascript object>"
      ]
     },
     "metadata": {},
     "output_type": "display_data"
    }
   ],
   "source": [
    "%%javascript\n",
    "\n",
    "require.config({paths: {numjs: \"https://cdn.jsdelivr.net/gh/nicolaspanel/numjs@0.15.1/dist/numjs.min\"}}); //omit .js at end\n",
    "require(['numjs'],add_graph_to_notebook);\n",
    "\n",
    "function add_graph_to_notebook(nj){\n",
    "    var canvas = document.getElementById(\"myCanvas\");\n",
    "    var ctx = canvas.getContext(\"2d\");\n",
    "    ctx.lineWidth = 3;\n",
    "\n",
    "\n",
    "    var draw = false;\n",
    "\n",
    "    var curr_x = 0\n",
    "    var curr_y = 0\n",
    "\n",
    "    function draw_path(e){\n",
    "        if(e.pointerType == \"touch\"){\n",
    "            return\n",
    "        }\n",
    "        if (e.pressure > 0.0){\n",
    "            if (curr_x != e.layerX | curr_y != e.layerY){\n",
    "                ctx.beginPath();\n",
    "                ctx.moveTo(curr_x, curr_y);\n",
    "                ctx.lineTo(e.layerX, e.layerY);\n",
    "                ctx.stroke(); \n",
    "            }\n",
    "        }\n",
    "\n",
    "        curr_x = e.layerX;\n",
    "        curr_y = e.layerY;\n",
    "\n",
    "    }\n",
    "    canvas.addEventListener(\"pointermove\",draw_path);\n",
    "}"
   ]
  },
  {
   "cell_type": "markdown",
   "metadata": {},
   "source": [
    "# The node.js part"
   ]
  },
  {
   "cell_type": "code",
   "execution_count": 27,
   "metadata": {},
   "outputs": [
    {
     "name": "stdout",
     "output_type": "stream",
     "text": [
      "\u001b[K\u001b[?25h\u001b[37;40mnpm\u001b[0m \u001b[0m\u001b[30;43mWARN\u001b[0m \u001b[0m\u001b[35mrollback\u001b[0m Rolling back rc@1.2.8 failed (this is probably harmless): EINVAL: invalid argument, rmdir '/mnt/c/Users/eler/Documents/Cognitive_Science/handwriting_detection/node_modules/fsevents/node_modules/rc/node_modules'\n",
      "\u001b[K\u001b[?25h\u001b[37;40mnpm\u001b[0m \u001b[0m\u001b[30;43mWARN\u001b[0m \u001b[0m\u001b[35mrollback\u001b[0m Rolling back node-pre-gyp@0.10.3 failed (this is probably harmless): EINVAL: invalid argument, lstat '/mnt/c/Users/eler/Documents/Cognitive_Science/handwriting_detection/node_modules/fsevents/node_modules'\n",
      "\u001b[K\u001b[?25h\u001b[37;40mnpm\u001b[0m \u001b[0m\u001b[30;43mWARN\u001b[0m\u001b[35m\u001b[0m acorn-dynamic-import@4.0.0 requires a peer of acorn@^6.0.0 but none is installed. You must install peer dependencies yourself.\n",
      "\u001b[0m\u001b[37;40mnpm\u001b[0m \u001b[0m\u001b[30;43mWARN\u001b[0m\u001b[35m\u001b[0m handwriting_detection@1.0.0 No description\n",
      "\u001b[0m\u001b[37;40mnpm\u001b[0m \u001b[0m\u001b[30;43mWARN\u001b[0m\u001b[35m\u001b[0m handwriting_detection@1.0.0 No repository field.\n",
      "\u001b[0m\u001b[37;40mnpm\u001b[0m \u001b[0m\u001b[30;43mWARN\u001b[0m \u001b[0m\u001b[35moptional\u001b[0m SKIPPING OPTIONAL DEPENDENCY: fsevents@1.2.7 (node_modules/fsevents):\n",
      "\u001b[0m\u001b[37;40mnpm\u001b[0m \u001b[0m\u001b[30;43mWARN\u001b[0m \u001b[0m\u001b[35mnotsup\u001b[0m SKIPPING OPTIONAL DEPENDENCY: Unsupported platform for fsevents@1.2.7: wanted {\"os\":\"darwin\",\"arch\":\"any\"} (current: {\"os\":\"linux\",\"arch\":\"x64\"})\n",
      "\u001b[0m\n",
      "\u001b[K\u001b[?25h+ numjs@0.16.0[90m......\u001b[0m] \\ postinstall: \u001b[30;43mWARN\u001b[0m \u001b[35mnotsup\u001b[0m SKIPPING OPTIONAL DEPENDENCY: U\u001b[0m\u001b[K[0m\u001b[K\n",
      "updated 1 package in 24.815s\n"
     ]
    }
   ],
   "source": [
    "! npm install numjs"
   ]
  },
  {
   "cell_type": "code",
   "execution_count": 31,
   "metadata": {},
   "outputs": [
    {
     "name": "stdout",
     "output_type": "stream",
     "text": [
      "Pixiedust database opened successfully\n"
     ]
    },
    {
     "data": {
      "text/html": [
       "\n",
       "        <div style=\"margin:10px\">\n",
       "            <a href=\"https://github.com/ibm-watson-data-lab/pixiedust\" target=\"_new\">\n",
       "                <img src=\"https://github.com/ibm-watson-data-lab/pixiedust/raw/master/docs/_static/pd_icon32.png\" style=\"float:left;margin-right:10px\"/>\n",
       "            </a>\n",
       "            <span>Pixiedust version 1.1.15</span>\n",
       "        </div>\n",
       "        "
      ],
      "text/plain": [
       "<IPython.core.display.HTML object>"
      ]
     },
     "metadata": {},
     "output_type": "display_data"
    },
    {
     "data": {
      "text/html": [
       "\n",
       "            <div style=\"margin:10px\"> \n",
       "            <a href=\"https://github.com/ibm-cds-labs/pixiedust_node\" target=\"_new\"> \n",
       "            <img src=\"https://github.com/ibm-cds-labs/pixiedust_node/raw/master/docs/_images/pdn_icon32.png\" style=\"float:left;margin-right:10px\"/> \n",
       "            </a> \n",
       "            <span>Pixiedust Node.js</span> \n",
       "            </div> \n"
      ],
      "text/plain": [
       "<IPython.core.display.HTML object>"
      ]
     },
     "metadata": {},
     "output_type": "display_data"
    },
    {
     "name": "stdout",
     "output_type": "stream",
     "text": [
      "pixiedust_node 0.2.5 started. Cells starting '%%node' may contain Node.js code.\n"
     ]
    }
   ],
   "source": [
    "import pixiedust_node"
   ]
  },
  {
   "cell_type": "code",
   "execution_count": 34,
   "metadata": {},
   "outputs": [],
   "source": [
    "%%node\n",
    "var nj = require(\"numjs\");"
   ]
  },
  {
   "cell_type": "code",
   "execution_count": 38,
   "metadata": {},
   "outputs": [
    {
     "name": "stdout",
     "output_type": "stream",
     "text": [
      "\"[[0,1,2,3,4],[5,6,7,8,9]]\"\n"
     ]
    }
   ],
   "source": [
    "%%node\n",
    "print(nj.arange(10).reshape(2,5));"
   ]
  },
  {
   "cell_type": "code",
   "execution_count": null,
   "metadata": {},
   "outputs": [],
   "source": []
  }
 ],
 "metadata": {
  "kernelspec": {
   "display_name": "Python 3",
   "language": "python",
   "name": "python3"
  },
  "language_info": {
   "codemirror_mode": {
    "name": "ipython",
    "version": 3
   },
   "file_extension": ".py",
   "mimetype": "text/x-python",
   "name": "python",
   "nbconvert_exporter": "python",
   "pygments_lexer": "ipython3",
   "version": "3.6.7"
  }
 },
 "nbformat": 4,
 "nbformat_minor": 2
}
